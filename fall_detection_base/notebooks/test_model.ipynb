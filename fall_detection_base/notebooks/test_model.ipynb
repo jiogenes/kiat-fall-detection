{
 "cells": [
  {
   "cell_type": "code",
   "execution_count": 13,
   "id": "7ea458b4",
   "metadata": {},
   "outputs": [],
   "source": [
    "import torch, einops, pathlib, cv2, json\n",
    "import numpy as np\n",
    "import matplotlib.pylab as plt\n",
    "from matplotlib import patches\n",
    "from sklearn.metrics import f1_score\n",
    "from torch import nn, optim\n",
    "from torch.utils.data import Dataset, DataLoader\n",
    "from torch_geometric.nn.models import GCN\n",
    "\n",
    "\n",
    "def preprocess_keypoints(keypoints, skeletons):\n",
    "    invalid_keypoint_index = keypoints.sum(axis=-1) == 0\n",
    "    invalid_vector_index = []\n",
    "\n",
    "    for i in range(len(skeletons)):\n",
    "        s, e = skeletons[i]\n",
    "        if s in invalid_keypoint_index or e in invalid_keypoint_index:\n",
    "            invalid_vector_index.append(i)\n",
    "\n",
    "    vec = keypoints[skeletons[:, 1]] - keypoints[skeletons[:, 0]]\n",
    "    vec /= (np.linalg.norm(vec, ord=2, axis=-1, keepdims=True) + 1e-5)\n",
    "    vec[invalid_vector_index] = 0\n",
    "    return vec\n",
    "\n",
    "\n",
    "def preprocess_keypoints_batch(keypoints, skeletons):\n",
    "    vecs = np.stack([preprocess_keypoints(kpts, sks) for kpts, sks in zip(keypoints, skeletons)])\n",
    "    return vecs\n",
    "\n",
    "\n",
    "class FallDetector(nn.Module):\n",
    "\n",
    "    def __init__(self, feature_dim=32):\n",
    "        super(FallDetector, self).__init__()\n",
    "\n",
    "        self.feature_extractor = nn.Sequential(nn.Linear(19*3, feature_dim), nn.LeakyReLU(0.1), nn.Linear(feature_dim, feature_dim))\n",
    "        self.norm = nn.LayerNorm(feature_dim)\n",
    "        self.detector = nn.LSTM(feature_dim, feature_dim, 1, batch_first=True,)\n",
    "        self.classifier = nn.Sequential(nn.Linear(feature_dim, 1), nn.Sigmoid())\n",
    "\n",
    "    def forward(self, frames):\n",
    "        frames = frames.flatten(-2, -1)\n",
    "        x = self.feature_extractor(frames)\n",
    "        x, (hn, cn) = self.detector(x)\n",
    "        x = self.classifier(x[:, -1]).squeeze(-1)\n",
    "        return x"
   ]
  },
  {
   "cell_type": "code",
   "execution_count": 112,
   "id": "1ae72568",
   "metadata": {},
   "outputs": [],
   "source": [
    "model = FallDetector()"
   ]
  },
  {
   "cell_type": "code",
   "execution_count": 89,
   "id": "701856d7",
   "metadata": {},
   "outputs": [
    {
     "data": {
      "text/plain": [
       "torch.Size([10, 1])"
      ]
     },
     "execution_count": 89,
     "metadata": {},
     "output_type": "execute_result"
    }
   ],
   "source": [
    "x = torch.randn(10, 15, 17*2)\n",
    "model(x).shape"
   ]
  },
  {
   "cell_type": "code",
   "execution_count": 26,
   "id": "45251e72",
   "metadata": {},
   "outputs": [],
   "source": [
    "class URDataset(Dataset):\n",
    "\n",
    "    def __init__(self, data_dir):\n",
    "        self.data_dir = data_dir\n",
    "        self.data_list = self._load_data_list()\n",
    "\n",
    "    def _load_data_list(self):\n",
    "        data_list = []\n",
    "        for path in pathlib.Path(self.data_dir).glob(\"keypoints_*.json\"):\n",
    "            data_list.append((path, int(\"fall\" in path.name)))\n",
    "\n",
    "        return data_list\n",
    "    \n",
    "    def __len__(self):\n",
    "        return len(self.data_list)\n",
    "    \n",
    "    def __getitem__(self, index):\n",
    "        path, fallen = self.data_list[index]\n",
    "        frames = self.read_keypoints(path)\n",
    "        frames = torch.tensor(frames, dtype=torch.float32)\n",
    "        fallen = torch.tensor(fallen, dtype=torch.long)\n",
    "        return frames, fallen\n",
    "    \n",
    "    def read_keypoints(self, path):\n",
    "        with open(str(path)) as f:\n",
    "            data = json.load(f)\n",
    "            \n",
    "        keypoints = np.array([kpts[0] for kpts in data[\"keypoints\"] if len(kpts) > 0])\n",
    "        keypoints += np.random.normal(loc=0, scale=(keypoints.max() - keypoints.min())/100, size=keypoints.shape)\n",
    "        skeleton = np.array([sks[0] for sks in data[\"skeleton\"] if len(sks) > 0]) - 1\n",
    "        # print(keypoints.shape, skeleton.shape)\n",
    "        keypoints = preprocess_keypoints_batch(keypoints, skeleton)\n",
    "        return keypoints"
   ]
  },
  {
   "cell_type": "code",
   "execution_count": 23,
   "id": "b78f8997",
   "metadata": {},
   "outputs": [
    {
     "data": {
      "text/plain": [
       "70"
      ]
     },
     "execution_count": 23,
     "metadata": {},
     "output_type": "execute_result"
    }
   ],
   "source": [
    "dataset = URDataset(\"../output/UR_fall_detection2\")\n",
    "len(dataset)"
   ]
  },
  {
   "cell_type": "code",
   "execution_count": 27,
   "id": "06fa4783",
   "metadata": {},
   "outputs": [
    {
     "name": "stdout",
     "output_type": "stream",
     "text": [
      "139.09315490722656 0.0\n"
     ]
    },
    {
     "data": {
      "text/plain": [
       "torch.Size([203, 19, 3])"
      ]
     },
     "execution_count": 27,
     "metadata": {},
     "output_type": "execute_result"
    }
   ],
   "source": [
    "frames = dataset[20][0]\n",
    "frames.shape\n"
   ]
  },
  {
   "cell_type": "code",
   "execution_count": 144,
   "id": "9c65d6ea",
   "metadata": {},
   "outputs": [
    {
     "name": "stdout",
     "output_type": "stream",
     "text": [
      "../output/UR_fall_detection2/keypoints_parsed_adl-10-cam0.json\n",
      "0 torch.Size([299, 19, 3])\n",
      "../output/UR_fall_detection2/keypoints_parsed_fall-22-cam0.json\n",
      "1 torch.Size([32, 19, 3])\n",
      "../output/UR_fall_detection2/keypoints_parsed_adl-23-cam0.json\n",
      "2 torch.Size([99, 19, 3])\n",
      "../output/UR_fall_detection2/keypoints_parsed_adl-33-cam0.json\n",
      "3 torch.Size([135, 19, 3])\n",
      "../output/UR_fall_detection2/keypoints_parsed_adl-26-cam0.json\n",
      "4 torch.Size([95, 19, 3])\n",
      "../output/UR_fall_detection2/keypoints_parsed_adl-37-cam0.json\n"
     ]
    },
    {
     "name": "stderr",
     "output_type": "stream",
     "text": [
      "/tmp/ipykernel_4020468/2088773368.py:20: RuntimeWarning: invalid value encountered in divide\n",
      "  vec /= np.linalg.norm(vec, ord=2, axis=-1, keepdims=True)\n"
     ]
    },
    {
     "name": "stdout",
     "output_type": "stream",
     "text": [
      "5 torch.Size([230, 19, 3])\n",
      "../output/UR_fall_detection2/keypoints_parsed_fall-05-cam0.json\n",
      "6 torch.Size([110, 19, 3])\n",
      "../output/UR_fall_detection2/keypoints_parsed_fall-26-cam0.json\n",
      "7 torch.Size([38, 19, 3])\n",
      "../output/UR_fall_detection2/keypoints_parsed_adl-25-cam0.json\n",
      "8 torch.Size([110, 19, 3])\n",
      "../output/UR_fall_detection2/keypoints_parsed_adl-32-cam0.json\n",
      "9 torch.Size([121, 19, 3])\n",
      "../output/UR_fall_detection2/keypoints_parsed_adl-27-cam0.json\n",
      "10 torch.Size([100, 19, 3])\n",
      "../output/UR_fall_detection2/keypoints_parsed_fall-12-cam0.json\n",
      "11 torch.Size([108, 19, 3])\n",
      "../output/UR_fall_detection2/keypoints_parsed_fall-06-cam0.json\n",
      "12 torch.Size([83, 19, 3])\n",
      "../output/UR_fall_detection2/keypoints_parsed_adl-01-cam0.json\n",
      "13 torch.Size([139, 19, 3])\n",
      "../output/UR_fall_detection2/keypoints_parsed_fall-20-cam0.json\n",
      "14 torch.Size([107, 19, 3])\n",
      "../output/UR_fall_detection2/keypoints_parsed_fall-08-cam0.json\n",
      "15 torch.Size([91, 19, 3])\n",
      "../output/UR_fall_detection2/keypoints_parsed_adl-12-cam0.json\n",
      "16 torch.Size([203, 19, 3])\n",
      "../output/UR_fall_detection2/keypoints_parsed_adl-16-cam0.json\n",
      "17 torch.Size([122, 19, 3])\n",
      "../output/UR_fall_detection2/keypoints_parsed_adl-40-cam0.json\n",
      "18 torch.Size([161, 19, 3])\n",
      "../output/UR_fall_detection2/keypoints_parsed_fall-18-cam0.json\n",
      "19 torch.Size([43, 19, 3])\n",
      "../output/UR_fall_detection2/keypoints_parsed_fall-28-cam0.json\n",
      "20 torch.Size([53, 19, 3])\n",
      "../output/UR_fall_detection2/keypoints_parsed_adl-22-cam0.json\n",
      "21 torch.Size([94, 19, 3])\n",
      "../output/UR_fall_detection2/keypoints_parsed_fall-04-cam0.json\n",
      "22 torch.Size([52, 19, 3])\n",
      "../output/UR_fall_detection2/keypoints_parsed_adl-15-cam0.json\n",
      "23 torch.Size([159, 19, 3])\n",
      "../output/UR_fall_detection2/keypoints_parsed_fall-16-cam0.json\n",
      "24 torch.Size([55, 19, 3])\n",
      "../output/UR_fall_detection2/keypoints_parsed_fall-11-cam0.json\n",
      "25 torch.Size([130, 19, 3])\n",
      "../output/UR_fall_detection2/keypoints_parsed_fall-23-cam0.json\n",
      "26 torch.Size([49, 19, 3])\n",
      "../output/UR_fall_detection2/keypoints_parsed_fall-01-cam0.json\n",
      "27 torch.Size([113, 19, 3])\n",
      "../output/UR_fall_detection2/keypoints_parsed_adl-39-cam0.json\n",
      "28 torch.Size([135, 19, 3])\n",
      "../output/UR_fall_detection2/keypoints_parsed_fall-13-cam0.json\n",
      "29 torch.Size([70, 19, 3])\n",
      "../output/UR_fall_detection2/keypoints_parsed_fall-27-cam0.json\n",
      "30 torch.Size([71, 19, 3])\n",
      "../output/UR_fall_detection2/keypoints_parsed_adl-08-cam0.json\n",
      "31 torch.Size([162, 19, 3])\n",
      "../output/UR_fall_detection2/keypoints_parsed_adl-07-cam0.json\n",
      "32 torch.Size([180, 19, 3])\n",
      "../output/UR_fall_detection2/keypoints_parsed_adl-05-cam0.json\n",
      "33 torch.Size([180, 19, 3])\n",
      "../output/UR_fall_detection2/keypoints_parsed_fall-10-cam0.json\n",
      "34 torch.Size([105, 19, 3])\n",
      "../output/UR_fall_detection2/keypoints_parsed_adl-06-cam0.json\n",
      "35 torch.Size([211, 19, 3])\n",
      "../output/UR_fall_detection2/keypoints_parsed_adl-21-cam0.json\n",
      "36 torch.Size([124, 19, 3])\n",
      "../output/UR_fall_detection2/keypoints_parsed_fall-14-cam0.json\n",
      "37 torch.Size([61, 19, 3])\n",
      "../output/UR_fall_detection2/keypoints_parsed_fall-25-cam0.json\n",
      "38 torch.Size([66, 19, 3])\n",
      "../output/UR_fall_detection2/keypoints_parsed_fall-30-cam0.json\n",
      "39 torch.Size([50, 19, 3])\n",
      "../output/UR_fall_detection2/keypoints_parsed_adl-31-cam0.json\n",
      "40 torch.Size([132, 19, 3])\n",
      "../output/UR_fall_detection2/keypoints_parsed_fall-17-cam0.json\n",
      "41 torch.Size([77, 19, 3])\n",
      "../output/UR_fall_detection2/keypoints_parsed_adl-35-cam0.json\n",
      "42 torch.Size([192, 19, 3])\n",
      "../output/UR_fall_detection2/keypoints_parsed_adl-04-cam0.json\n",
      "43 torch.Size([150, 19, 3])\n",
      "../output/UR_fall_detection2/keypoints_parsed_adl-36-cam0.json\n",
      "44 torch.Size([210, 19, 3])\n",
      "../output/UR_fall_detection2/keypoints_parsed_adl-28-cam0.json\n",
      "45 torch.Size([85, 19, 3])\n",
      "../output/UR_fall_detection2/keypoints_parsed_fall-21-cam0.json\n",
      "46 torch.Size([42, 19, 3])\n",
      "../output/UR_fall_detection2/keypoints_parsed_adl-13-cam0.json\n",
      "47 torch.Size([159, 19, 3])\n",
      "../output/UR_fall_detection2/keypoints_parsed_fall-24-cam0.json\n",
      "48 torch.Size([37, 19, 3])\n",
      "../output/UR_fall_detection2/keypoints_parsed_adl-30-cam0.json\n",
      "49 torch.Size([152, 19, 3])\n",
      "../output/UR_fall_detection2/keypoints_parsed_adl-29-cam0.json\n",
      "50 torch.Size([125, 19, 3])\n",
      "../output/UR_fall_detection2/keypoints_parsed_adl-24-cam0.json\n",
      "51 torch.Size([70, 19, 3])\n",
      "../output/UR_fall_detection2/keypoints_parsed_adl-19-cam0.json\n",
      "52 torch.Size([109, 19, 3])\n",
      "../output/UR_fall_detection2/keypoints_parsed_adl-03-cam0.json\n",
      "53 torch.Size([180, 19, 3])\n",
      "../output/UR_fall_detection2/keypoints_parsed_fall-03-cam0.json\n",
      "54 torch.Size([199, 19, 3])\n",
      "../output/UR_fall_detection2/keypoints_parsed_fall-19-cam0.json\n",
      "55 torch.Size([47, 19, 3])\n",
      "../output/UR_fall_detection2/keypoints_parsed_adl-11-cam0.json\n",
      "56 torch.Size([220, 19, 3])\n",
      "../output/UR_fall_detection2/keypoints_parsed_fall-29-cam0.json\n",
      "57 torch.Size([69, 19, 3])\n"
     ]
    }
   ],
   "source": [
    "for i in range(len(dataset)):\n",
    "    frames = dataset[i][0]\n",
    "    print(i, frames.shape)"
   ]
  },
  {
   "cell_type": "code",
   "execution_count": 85,
   "id": "f6e2a54f",
   "metadata": {},
   "outputs": [],
   "source": [
    "frames /= frames.max(axis=1, keepdims=True)[0]"
   ]
  },
  {
   "cell_type": "code",
   "execution_count": 86,
   "id": "38645b74",
   "metadata": {},
   "outputs": [
    {
     "data": {
      "image/png": "[encoded data removed]",
      "text/plain": [
       "<Figure size 2000x200 with 10 Axes>"
      ]
     },
     "metadata": {},
     "output_type": "display_data"
    }
   ],
   "source": [
    "fig, ax = plt.subplots(1, 10, figsize=(20, 2))\n",
    "for i in range(0, 10):\n",
    "    for kp in frames[i + 27]:\n",
    "        c = patches.Circle((kp[0], kp[1]), radius=0.01, fill=True, color=\"red\")\n",
    "        ax[i].add_patch(c)\n",
    "\n",
    "plt.show()"
   ]
  },
  {
   "cell_type": "code",
   "execution_count": 28,
   "id": "221b8937",
   "metadata": {},
   "outputs": [],
   "source": [
    "model = FallDetector()\n",
    "model = model.to(0)"
   ]
  },
  {
   "cell_type": "code",
   "execution_count": null,
   "id": "a4f77021",
   "metadata": {},
   "outputs": [],
   "source": [
    "EPOCHS = 10\n",
    "\n",
    "criterion = nn.BCELoss()\n",
    "optimizer = optim.AdamW(model.parameters(), lr=1e-3, betas=(0.5, 0.9))\n",
    "dataset = URDataset(\"../output/UR_fall_detection2\")\n",
    "dloader = DataLoader(dataset, batch_size=1, shuffle=False)\n",
    "\n",
    "def training_step():\n",
    "    for e in range(EPOCHS):\n",
    "        accs = []\n",
    "        gts = []\n",
    "        preds = []\n",
    "        for frames, labels in dloader:\n",
    "            frames = frames.to(0)\n",
    "            labels = labels.to(0).float()\n",
    "\n",
    "            pred = model(frames)\n",
    "            loss = criterion(pred, labels)\n",
    "\n",
    "            cat_pred = (pred >= 0.5).float()\n",
    "            acc = (labels == cat_pred).float().mean()\n",
    "            accs.append(acc)\n",
    "            preds.append(cat_pred.detach().cpu().numpy())\n",
    "            gts.append(labels.cpu().numpy())\n",
    "\n",
    "            loss.backward()\n",
    "            optimizer.step()\n",
    "            optimizer.zero_grad()\n",
    "\n",
    "        gts = np.concatenate(gts)\n",
    "        preds = np.concatenate(preds)\n",
    "        f1 = f1_score(gts, preds)\n",
    "        acc = sum(accs) / len(accs)\n",
    "        print(f\"Acc: {acc:.4f}, F1: {f1:.4f}\")\n",
    "\n",
    "        if f1 > 0.9 and acc > 0.9: break\n"
   ]
  },
  {
   "cell_type": "code",
   "execution_count": null,
   "id": "3ea488b8",
   "metadata": {},
   "outputs": [
    {
     "name": "stdout",
     "output_type": "stream",
     "text": [
      "Acc: 0.5429, F1: 0.2000\n",
      "Acc: 0.7143, F1: 0.5652\n",
      "Acc: 0.8286, F1: 0.7778\n",
      "Acc: 0.8429, F1: 0.8000\n",
      "Acc: 0.8714, F1: 0.8475\n",
      "Acc: 0.8714, F1: 0.8571\n",
      "Acc: 0.8857, F1: 0.8667\n",
      "Acc: 0.9286, F1: 0.9206\n"
     ]
    }
   ],
   "source": [
    "training_step()"
   ]
  },
  {
   "cell_type": "code",
   "execution_count": 32,
   "id": "e5cb842b",
   "metadata": {},
   "outputs": [],
   "source": [
    "model = FallDetector()\n",
    "model = model.to(0)"
   ]
  },
  {
   "cell_type": "code",
   "execution_count": 33,
   "id": "c4f16219",
   "metadata": {},
   "outputs": [],
   "source": [
    "EPOCHS = 10\n",
    "\n",
    "criterion = nn.BCELoss()\n",
    "optimizer = optim.AdamW(model.parameters(), lr=1e-3, betas=(0.5, 0.9))\n",
    "train_dataset = URDataset(\"../output/UR_fall_detection3/train\")\n",
    "test_dataset = URDataset(\"../output/UR_fall_detection3/test\")\n",
    "train_dloader = DataLoader(train_dataset, batch_size=1, shuffle=False)\n",
    "test_dloader = DataLoader(test_dataset, batch_size=1, shuffle=False)\n",
    "\n",
    "def training_step():\n",
    "    for e in range(EPOCHS):\n",
    "        accs = []\n",
    "        gts = []\n",
    "        preds = []\n",
    "        for frames, labels in train_dloader:\n",
    "            frames = frames.to(0)\n",
    "            labels = labels.to(0).float()\n",
    "\n",
    "            pred = model(frames)\n",
    "            loss = criterion(pred, labels)\n",
    "\n",
    "            cat_pred = (pred >= 0.5).float()\n",
    "            acc = (labels == cat_pred).float().mean()\n",
    "            accs.append(acc)\n",
    "            preds.append(cat_pred.detach().cpu().numpy())\n",
    "            gts.append(labels.cpu().numpy())\n",
    "\n",
    "            loss.backward()\n",
    "            optimizer.step()\n",
    "            optimizer.zero_grad()\n",
    "\n",
    "        gts = np.concatenate(gts)\n",
    "        preds = np.concatenate(preds)\n",
    "        f1 = f1_score(gts, preds)\n",
    "        acc = sum(accs) / len(accs)\n",
    "        print(f\"(Train) Acc: {acc:.4f}, F1: {f1:.4f}\")\n",
    "\n",
    "\n",
    "        accs = []\n",
    "        gts = []\n",
    "        preds = []\n",
    "        for frames, labels in test_dloader:\n",
    "            frames = frames.to(0)\n",
    "            labels = labels.to(0).float()\n",
    "\n",
    "            pred = model(frames)\n",
    "            loss = criterion(pred, labels)\n",
    "\n",
    "            cat_pred = (pred >= 0.5).float()\n",
    "            acc = (labels == cat_pred).float().mean()\n",
    "            accs.append(acc)\n",
    "            preds.append(cat_pred.detach().cpu().numpy())\n",
    "            gts.append(labels.cpu().numpy())\n",
    "\n",
    "            loss.backward()\n",
    "            optimizer.step()\n",
    "            optimizer.zero_grad()\n",
    "\n",
    "        gts = np.concatenate(gts)\n",
    "        preds = np.concatenate(preds)\n",
    "        f1 = f1_score(gts, preds)\n",
    "        acc = sum(accs) / len(accs)\n",
    "        print(f\"(Test) Acc: {acc:.4f}, F1: {f1:.4f}\")\n",
    "\n",
    "        if f1 > 0.9 and acc > 0.9: break\n"
   ]
  },
  {
   "cell_type": "code",
   "execution_count": 34,
   "id": "d288f460",
   "metadata": {},
   "outputs": [
    {
     "name": "stdout",
     "output_type": "stream",
     "text": [
      "(Train) Acc: 0.6818, F1: 0.6818\n",
      "(Test) Acc: 0.6154, F1: 0.1667\n",
      "(Train) Acc: 0.8864, F1: 0.8571\n",
      "(Test) Acc: 0.6538, F1: 0.4706\n",
      "(Train) Acc: 0.9091, F1: 0.8889\n",
      "(Test) Acc: 0.6923, F1: 0.5556\n",
      "(Train) Acc: 0.9091, F1: 0.8889\n",
      "(Test) Acc: 0.6923, F1: 0.5556\n",
      "(Train) Acc: 0.9545, F1: 0.9474\n",
      "(Test) Acc: 0.6923, F1: 0.5556\n",
      "(Train) Acc: 0.9545, F1: 0.9474\n",
      "(Test) Acc: 0.7692, F1: 0.7000\n",
      "(Train) Acc: 0.9545, F1: 0.9474\n",
      "(Test) Acc: 0.7308, F1: 0.6667\n",
      "(Train) Acc: 0.9318, F1: 0.9189\n",
      "(Test) Acc: 0.8462, F1: 0.8182\n",
      "(Train) Acc: 0.9318, F1: 0.9189\n",
      "(Test) Acc: 0.8077, F1: 0.7619\n",
      "(Train) Acc: 0.9318, F1: 0.9189\n",
      "(Test) Acc: 0.8846, F1: 0.8421\n"
     ]
    }
   ],
   "source": [
    "training_step()"
   ]
  },
  {
   "cell_type": "code",
   "execution_count": 26,
   "id": "c1564019",
   "metadata": {},
   "outputs": [],
   "source": [
    "import os\n",
    "for path in pathlib.Path(\"../output/UR_fall_detection2/\").glob(\"keypoints*\"):\n",
    "    os.rename(str(path), str(path).replace(\".txt\", \".json\"))"
   ]
  },
  {
   "cell_type": "code",
   "execution_count": null,
   "id": "c1bd90b9",
   "metadata": {},
   "outputs": [],
   "source": []
  }
 ],
 "metadata": {
  "kernelspec": {
   "display_name": "torch2.6",
   "language": "python",
   "name": "python3"
  },
  "language_info": {
   "codemirror_mode": {
    "name": "ipython",
    "version": 3
   },
   "file_extension": ".py",
   "mimetype": "text/x-python",
   "name": "python",
   "nbconvert_exporter": "python",
   "pygments_lexer": "ipython3",
   "version": "3.12.11"
  }
 },
 "nbformat": 4,
 "nbformat_minor": 5
}
