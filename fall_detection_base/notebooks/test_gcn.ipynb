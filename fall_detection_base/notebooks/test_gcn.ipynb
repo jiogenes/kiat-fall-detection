{
 "cells": [
  {
   "cell_type": "code",
   "execution_count": 110,
   "id": "7ea458b4",
   "metadata": {},
   "outputs": [],
   "source": [
    "import torch, einops, pathlib, cv2, json\n",
    "import numpy as np\n",
    "import matplotlib.pylab as plt\n",
    "from matplotlib import patches\n",
    "from torch import nn, optim\n",
    "from torch.utils.data import Dataset, DataLoader\n",
    "from torch_geometric.nn.models import GCN\n",
    "\n",
    "\n",
    "class FallDetector(nn.Module):\n",
    "\n",
    "    def __init__(self, feature_dim=32):\n",
    "        super(FallDetector, self).__init__()\n",
    "\n",
    "        self.feature_extractor = GCN(2, feature_dim, num_layers=2, act=\"leaky_relu\", norm=\"LayerNorm\")\n",
    "        self.detector = nn.LSTM(feature_dim, feature_dim, 1, batch_first=True)\n",
    "        self.classifier = nn.Linear(feature_dim, 1)\n",
    "\n",
    "    def forward(self, frames, edge):\n",
    "        N, L, M, _ = frames.shape\n",
    "\n",
    "        frames = einops.rearrange(frames, \"n l m d -> (n l m) d\")\n",
    "        edge = torch.cat([edge + M*i for i in range(N*L)], dim=-1)\n",
    "\n",
    "        print(frames.shape, edge.shape)\n",
    "        \n",
    "        x = self.feature_extractor(frames, edge)\n",
    "        x = einops.rearrange(x, \"(n l m) d -> n l m d\", n=N, l=L).mean(dim=2)\n",
    "        x, (hn, cn) = self.detector(x)\n",
    "        x = self.classifier(x[:, -1])\n",
    "        return x"
   ]
  },
  {
   "cell_type": "code",
   "execution_count": 5,
   "id": "c21eacc3",
   "metadata": {},
   "outputs": [],
   "source": [
    "gcn = GCN(2, 32, num_layers=2, act=\"leaky_relu\", norm=\"LayerNorm\")"
   ]
  },
  {
   "cell_type": "code",
   "execution_count": 38,
   "id": "2c7d23df",
   "metadata": {},
   "outputs": [],
   "source": [
    "x = torch.randn(10, 2)"
   ]
  },
  {
   "cell_type": "code",
   "execution_count": 13,
   "id": "1820142e",
   "metadata": {},
   "outputs": [],
   "source": [
    "edge = torch.tensor([\n",
    "    [0, 2, 4, 6, 8],\n",
    "    [1, 3, 5, 7, 9],\n",
    "])"
   ]
  },
  {
   "cell_type": "code",
   "execution_count": 47,
   "id": "853e1a21",
   "metadata": {},
   "outputs": [
    {
     "data": {
      "text/plain": [
       "torch.Size([10, 15, 10, 32])"
      ]
     },
     "execution_count": 47,
     "metadata": {},
     "output_type": "execute_result"
    }
   ],
   "source": [
    "out = gcn(x, edge)\n",
    "out.shape"
   ]
  },
  {
   "cell_type": "code",
   "execution_count": 54,
   "id": "1ae72568",
   "metadata": {},
   "outputs": [],
   "source": [
    "model = FallDetector()"
   ]
  },
  {
   "cell_type": "code",
   "execution_count": 55,
   "id": "701856d7",
   "metadata": {},
   "outputs": [
    {
     "name": "stdout",
     "output_type": "stream",
     "text": [
      "torch.Size([1500, 2]) torch.Size([2, 750])\n"
     ]
    },
    {
     "data": {
      "text/plain": [
       "tensor([[0.0917],\n",
       "        [0.0948],\n",
       "        [0.1277],\n",
       "        [0.1184],\n",
       "        [0.1411],\n",
       "        [0.1316],\n",
       "        [0.1565],\n",
       "        [0.1336],\n",
       "        [0.1440],\n",
       "        [0.1123]], grad_fn=<AddmmBackward0>)"
      ]
     },
     "execution_count": 55,
     "metadata": {},
     "output_type": "execute_result"
    }
   ],
   "source": [
    "x = torch.randn(10, 15, 10, 2)\n",
    "model(x, edge)"
   ]
  },
  {
   "cell_type": "code",
   "execution_count": 107,
   "id": "45251e72",
   "metadata": {},
   "outputs": [],
   "source": [
    "class URDataset(Dataset):\n",
    "\n",
    "    def __init__(self, data_dir):\n",
    "        self.data_dir = data_dir\n",
    "        self.data_list = self._load_data_list()\n",
    "\n",
    "    def _load_data_list(self):\n",
    "        data_list = []\n",
    "        for path in pathlib.Path(self.data_dir).glob(\"*/*.json\"):\n",
    "            data_list.append((path, int(\"fall\" in path.name)))\n",
    "\n",
    "        return data_list\n",
    "    \n",
    "    def __len__(self):\n",
    "        return len(self.data_list)\n",
    "    \n",
    "    def __getitem__(self, index):\n",
    "        path, fallen = self.data_list[index]\n",
    "        print(path)\n",
    "        frames, valid_frame_index = self.read_keypoints(path)\n",
    "        frames = self.interpolate(frames, valid_frame_index)\n",
    "        return frames, fallen\n",
    "    \n",
    "    def interpolate(self, keypoints, valid_frame_index):\n",
    "        start_index = 0\n",
    "        while valid_frame_index[start_index] == 0:\n",
    "            start_index += 1\n",
    "\n",
    "        end_index = len(keypoints) - 1\n",
    "        while valid_frame_index[end_index] == 0:\n",
    "            end_index -= 1\n",
    "\n",
    "        keypoints = keypoints[start_index:end_index]\n",
    "        valid_frame_index = valid_frame_index[start_index:end_index]\n",
    "\n",
    "        for i in range(1, len(keypoints) - 1):\n",
    "            if valid_frame_index[i] == 0:\n",
    "                prev_kpts = keypoints[i - 1]\n",
    "                next_kpts_index = i + 1\n",
    "                while valid_frame_index[next_kpts_index] == 0:\n",
    "                    next_kpts_index += 1\n",
    "                next_kpts = keypoints[next_kpts_index]\n",
    "                curr_kpts = prev_kpts * ((next_kpts_index - i)/(next_kpts_index - i + 1)) + next_kpts * (1/(next_kpts_index - i + 1))\n",
    "                keypoints[i] = curr_kpts\n",
    "\n",
    "        return keypoints\n",
    "    \n",
    "    def read_keypoints(self, path):\n",
    "        with open(str(path)) as f:\n",
    "            data = json.load(f)\n",
    "        \n",
    "        keypoints = data[\"keypoints\"]\n",
    "        keypoints = torch.stack([torch.tensor(list(kpts.values())[0]) if len(kpts.values()) > 0 else torch.zeros(17, 3) for kpts in keypoints])\n",
    "        valid_frame_index = torch.tensor([1 if len(data[\"keypoints\"][i].values()) > 0 else 0 for i in range(len(keypoints))])\n",
    "        return keypoints, valid_frame_index"
   ]
  },
  {
   "cell_type": "code",
   "execution_count": 108,
   "id": "b78f8997",
   "metadata": {},
   "outputs": [
    {
     "data": {
      "text/plain": [
       "70"
      ]
     },
     "execution_count": 108,
     "metadata": {},
     "output_type": "execute_result"
    }
   ],
   "source": [
    "dataset = URDataset(\"../easy_ViTPose/output/\")\n",
    "len(dataset)"
   ]
  },
  {
   "cell_type": "code",
   "execution_count": 109,
   "id": "9c65d6ea",
   "metadata": {},
   "outputs": [
    {
     "name": "stdout",
     "output_type": "stream",
     "text": [
      "../easy_ViTPose/output/parsed_adl-37-cam0.mp4/parsed_adl-37-cam0_result.json\n"
     ]
    },
    {
     "data": {
      "text/plain": [
       "torch.Size([247, 17, 3])"
      ]
     },
     "execution_count": 109,
     "metadata": {},
     "output_type": "execute_result"
    }
   ],
   "source": [
    "frames = dataset[0][0]\n",
    "frames.shape"
   ]
  },
  {
   "cell_type": "code",
   "execution_count": null,
   "id": "f6e2a54f",
   "metadata": {},
   "outputs": [
    {
     "name": "stdout",
     "output_type": "stream",
     "text": [
      "tensor([65.3559, 60.7324,  0.8845])\n",
      "tensor([62.8767, 61.2869,  0.9052])\n",
      "tensor([63.2359, 58.3507,  0.8909])\n",
      "tensor([63.8444, 62.2764,  0.7076])\n",
      "tensor([64.5195, 54.0480,  0.8790])\n",
      "tensor([75.7710, 64.1121,  0.8928])\n",
      "tensor([76.7098, 51.2145,  0.8482])\n",
      "tensor([90.5093, 66.7663,  0.8164])\n",
      "tensor([92.3930, 50.7710,  0.7604])\n",
      "tensor([102.7138,  67.4033,   0.8270])\n",
      "tensor([104.1884,  57.7950,   0.6073])\n",
      "tensor([105.2107,  64.1432,   0.8831])\n",
      "tensor([105.9875,  54.3799,   0.7919])\n",
      "tensor([127.4779,  69.8263,   0.8820])\n",
      "tensor([128.6102,  53.4926,   0.8472])\n",
      "tensor([144.9236,  76.1766,   0.8714])\n",
      "tensor([146.6867,  52.6319,   0.8337])\n",
      "tensor([65.7842, 61.3870,  0.8946])\n",
      "tensor([63.2053, 62.0798,  0.8532])\n",
      "tensor([63.6399, 58.8612,  0.8659])\n",
      "tensor([64.2820, 63.4180,  0.7442])\n",
      "tensor([64.9382, 54.8926,  0.8562])\n",
      "tensor([76.6044, 65.3989,  0.8721])\n",
      "tensor([77.6272, 52.0688,  0.8515])\n",
      "tensor([91.2413, 68.3886,  0.8331])\n",
      "tensor([93.2730, 51.6237,  0.7484])\n",
      "tensor([103.7953,  69.0227,   0.8260])\n",
      "tensor([105.2585,  57.6103,   0.5901])\n",
      "tensor([105.2826,  65.5947,   0.8697])\n",
      "tensor([105.9613,  55.2134,   0.8281])\n",
      "tensor([127.5936,  70.6587,   0.8537])\n",
      "tensor([128.2975,  54.6422,   0.8623])\n",
      "tensor([145.9086,  75.6483,   0.8588])\n",
      "tensor([147.0587,  52.5997,   0.7990])\n",
      "tensor([67.0065, 62.5574,  0.8541])\n",
      "tensor([64.4482, 63.3884,  0.8619])\n",
      "tensor([64.8232, 60.4343,  0.8608])\n",
      "tensor([65.1935, 64.5535,  0.7752])\n",
      "tensor([65.7587, 56.6064,  0.8136])\n",
      "tensor([76.2453, 67.2608,  0.9000])\n",
      "tensor([77.4557, 53.1034,  0.8866])\n",
      "tensor([91.9291, 69.4938,  0.8949])\n",
      "tensor([93.6332, 53.0132,  0.7965])\n",
      "tensor([105.0254,  69.9955,   0.8056])\n",
      "tensor([106.6732,  57.6227,   0.6706])\n",
      "tensor([104.6208,  66.8447,   0.8803])\n",
      "tensor([105.4640,  55.7288,   0.8739])\n",
      "tensor([126.9960,  71.1376,   0.8581])\n",
      "tensor([127.3770,  55.4220,   0.8601])\n",
      "tensor([146.4796,  75.6337,   0.8671])\n",
      "tensor([146.9150,  52.6086,   0.8336])\n",
      "tensor([66.1763, 64.2679,  0.8546])\n",
      "tensor([63.6058, 65.0897,  0.8597])\n",
      "tensor([63.9080, 62.0724,  0.8609])\n",
      "tensor([64.5714, 66.0493,  0.7644])\n",
      "tensor([65.0298, 58.0449,  0.8480])\n",
      "tensor([75.9658, 68.5032,  0.9036])\n",
      "tensor([77.1798, 54.3164,  0.8837])\n",
      "tensor([91.5394, 70.9459,  0.8975])\n",
      "tensor([93.4470, 53.9302,  0.8150])\n",
      "tensor([104.0974,  72.1751,   0.8168])\n",
      "tensor([106.5009,  57.8792,   0.7113])\n",
      "tensor([104.1949,  68.3467,   0.8874])\n",
      "tensor([105.2007,  57.2358,   0.8708])\n",
      "tensor([126.3609,  72.3016,   0.8585])\n",
      "tensor([126.7650,  57.1428,   0.8604])\n",
      "tensor([146.1639,  75.8265,   0.8671])\n",
      "tensor([146.6042,  53.3873,   0.8233])\n",
      "tensor([65.3461, 65.9784,  0.8551])\n",
      "tensor([62.7634, 66.7911,  0.8575])\n",
      "tensor([62.9928, 63.7105,  0.8609])\n",
      "tensor([63.9493, 67.5451,  0.7536])\n",
      "tensor([64.3010, 59.4835,  0.8823])\n",
      "tensor([75.6864, 69.7456,  0.9072])\n",
      "tensor([76.9038, 55.5294,  0.8807])\n",
      "tensor([91.1497, 72.3980,  0.9002])\n",
      "tensor([93.2608, 54.8471,  0.8335])\n",
      "tensor([103.1694,  74.3548,   0.8280])\n",
      "tensor([106.3286,  58.1357,   0.7520])\n",
      "tensor([103.7691,  69.8487,   0.8946])\n",
      "tensor([104.9374,  58.7429,   0.8676])\n",
      "tensor([125.7258,  73.4655,   0.8589])\n",
      "tensor([126.1531,  58.8635,   0.8607])\n",
      "tensor([145.8482,  76.0192,   0.8672])\n",
      "tensor([146.2933,  54.1660,   0.8129])\n",
      "tensor([64.5159, 67.6890,  0.8557])\n",
      "tensor([61.9210, 68.4924,  0.8552])\n",
      "tensor([62.0776, 65.3486,  0.8609])\n",
      "tensor([63.3273, 69.0408,  0.7428])\n",
      "tensor([63.5721, 60.9220,  0.9167])\n",
      "tensor([75.4069, 70.9880,  0.9107])\n",
      "tensor([76.6278, 56.7424,  0.8778])\n",
      "tensor([90.7599, 73.8502,  0.9029])\n",
      "tensor([93.0746, 55.7641,  0.8520])\n",
      "tensor([102.2414,  76.5344,   0.8392])\n",
      "tensor([106.1562,  58.3923,   0.7926])\n",
      "tensor([103.3432,  71.3507,   0.9017])\n",
      "tensor([104.6742,  60.2499,   0.8644])\n",
      "tensor([125.0906,  74.6294,   0.8593])\n",
      "tensor([125.5411,  60.5843,   0.8609])\n",
      "tensor([145.5325,  76.2120,   0.8673])\n",
      "tensor([145.9824,  54.9447,   0.8026])\n",
      "tensor([63.9519, 69.2447,  0.8321])\n",
      "tensor([61.3255, 70.1446,  0.8433])\n",
      "tensor([61.6210, 66.7199,  0.8474])\n",
      "tensor([62.8446, 71.0788,  0.7421])\n",
      "tensor([63.3132, 61.9853,  0.8842])\n",
      "tensor([75.0329, 72.5676,  0.9109])\n",
      "tensor([76.4965, 57.5346,  0.8910])\n",
      "tensor([89.8268, 75.6305,  0.8902])\n",
      "tensor([92.9342, 56.0283,  0.8339])\n",
      "tensor([100.7780,  78.5230,   0.8331])\n",
      "tensor([106.8233,  58.1126,   0.8340])\n",
      "tensor([104.1839,  72.6936,   0.8798])\n",
      "tensor([105.2569,  61.8752,   0.8438])\n",
      "tensor([125.7840,  75.2763,   0.8550])\n",
      "tensor([126.6906,  62.7152,   0.8482])\n",
      "tensor([145.8738,  76.5353,   0.8783])\n",
      "tensor([146.7772,  55.5753,   0.7943])\n",
      "tensor([64.1802, 69.3816,  0.8497])\n",
      "tensor([61.4878, 70.7174,  0.9055])\n",
      "tensor([61.6383, 67.0030,  0.8760])\n",
      "tensor([62.9636, 72.3758,  0.8226])\n",
      "tensor([63.3154, 62.6003,  0.9234])\n",
      "tensor([75.1792, 74.2819,  0.9066])\n",
      "tensor([76.4713, 58.3097,  0.8881])\n",
      "tensor([89.3264, 77.6094,  0.9168])\n",
      "tensor([92.4859, 56.0768,  0.8134])\n",
      "tensor([100.4884,  80.6034,   0.8571])\n",
      "tensor([106.7044,  58.0316,   0.8344])\n",
      "tensor([103.0144,  73.5789,   0.8883])\n",
      "tensor([104.4496,  63.0406,   0.8204])\n",
      "tensor([125.6187,  75.9256,   0.8514])\n",
      "tensor([127.4239,  64.1677,   0.8545])\n",
      "tensor([145.6213,  76.5156,   0.8504])\n",
      "tensor([147.4140,  56.8717,   0.7806])\n",
      "tensor([63.5420, 71.1122,  0.8885])\n",
      "tensor([60.9523, 72.1157,  0.8989])\n",
      "tensor([61.1700, 68.5578,  0.8831])\n",
      "tensor([62.3340, 73.4782,  0.7723])\n",
      "tensor([62.9415, 63.9861,  0.9183])\n",
      "tensor([74.6221, 75.3951,  0.9112])\n",
      "tensor([76.2648, 59.2082,  0.8802])\n",
      "tensor([88.4754, 79.1981,  0.8877])\n",
      "tensor([92.0284, 56.5837,  0.8184])\n",
      "tensor([99.7374, 82.5411,  0.8787])\n",
      "tensor([106.4841,  57.8925,   0.8411])\n",
      "tensor([102.0514,  74.4646,   0.8463])\n",
      "tensor([103.4882,  64.1507,   0.8108])\n",
      "tensor([125.5279,  76.4899,   0.8590])\n",
      "tensor([127.4857,  66.1052,   0.8237])\n",
      "tensor([145.5856,  76.6602,   0.8791])\n",
      "tensor([147.8226,  58.0338,   0.7759])\n",
      "tensor([64.8333, 71.4997,  0.8724])\n",
      "tensor([62.2561, 72.8512,  0.9264])\n",
      "tensor([62.3814, 69.1515,  0.8927])\n",
      "tensor([63.6093, 74.7765,  0.8636])\n",
      "tensor([63.9968, 65.1521,  0.9267])\n",
      "tensor([75.6342, 76.9481,  0.9238])\n",
      "tensor([76.6460, 60.4110,  0.8639])\n",
      "tensor([89.0620, 81.0308,  0.9071])\n",
      "tensor([91.5965, 57.0876,  0.8462])\n",
      "tensor([99.9874, 85.5190,  0.8832])\n",
      "tensor([105.4839,  58.2368,   0.8182])\n",
      "tensor([101.9752,  75.6450,   0.8568])\n",
      "tensor([103.1699,  64.9612,   0.8278])\n",
      "tensor([125.5752,  77.7274,   0.8279])\n",
      "tensor([127.4006,  67.6652,   0.8474])\n",
      "tensor([146.2466,  77.4012,   0.8865])\n",
      "tensor([145.7197,  61.0920,   0.8296])\n"
     ]
    },
    {
     "data": {
      "image/png": "[encoded data removed]",
      "text/plain": [
       "<Figure size 640x480 with 1 Axes>"
      ]
     },
     "metadata": {},
     "output_type": "display_data"
    }
   ],
   "source": [
    "\n",
    "fig, ax = plt.subplots(1, 10)\n",
    "for i in range(0, 10):\n",
    "    for kp in frame:\n",
    "        c = patches.Circle((kp[0], kp[1]), radius=5, fill=True, color=\"red\")\n",
    "        ax[i].add_patch(c)\n",
    "\n",
    "plt.show()"
   ]
  },
  {
   "cell_type": "code",
   "execution_count": null,
   "id": "221b8937",
   "metadata": {},
   "outputs": [],
   "source": []
  },
  {
   "cell_type": "code",
   "execution_count": null,
   "id": "a4f77021",
   "metadata": {},
   "outputs": [],
   "source": [
    "EPOCHS = 10\n",
    "\n",
    "dloader = DataLoader(dataset, batch_size=1, shuffle=True)\n",
    "\n",
    "def training_step(x):\n",
    "    for e in range(EPOCHS):\n",
    "        for frames, labels in dloader:\n",
    "            frames = frames.to(0)\n",
    "            labels = labels.to(0)\n",
    "\n",
    "            model(frames, )"
   ]
  }
 ],
 "metadata": {
  "kernelspec": {
   "display_name": "torch2.6",
   "language": "python",
   "name": "python3"
  },
  "language_info": {
   "codemirror_mode": {
    "name": "ipython",
    "version": 3
   },
   "file_extension": ".py",
   "mimetype": "text/x-python",
   "name": "python",
   "nbconvert_exporter": "python",
   "pygments_lexer": "ipython3",
   "version": "3.12.11"
  }
 },
 "nbformat": 4,
 "nbformat_minor": 5
}
